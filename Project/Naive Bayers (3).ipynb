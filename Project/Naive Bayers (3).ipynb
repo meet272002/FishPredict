{
 "cells": [
  {
   "cell_type": "code",
   "execution_count": 1,
   "id": "fc40d054",
   "metadata": {},
   "outputs": [],
   "source": [
    "import pandas as pd\n",
    "from sklearn import preprocessing\n",
    "from sklearn.naive_bayes import GaussianNB\n",
    "from tkinter import *\n",
    "\n",
    "def pred_fish():\n",
    "    dataset = pd.read_csv(\"Dataset.csv\")\n",
    "\n",
    "    data = dataset.dropna();\n",
    "\n",
    "    Season = data[\"Season\"].values.tolist()\n",
    "    Min = data[\"Minimum\"].values.tolist()\n",
    "    Max = data[\"Maximum\"].values.tolist()\n",
    "    Name = data[\"Name\"].values.tolist()\n",
    "\n",
    "    le = preprocessing.LabelEncoder();\n",
    "    season = le.fit_transform(Season)\n",
    "#     minimum = le.fit_transform(Min) \n",
    "    name = le.fit_transform(Name)\n",
    "#     maximum = le.fit_transform(Max)\n",
    "\n",
    "    # print(name,\"\\n\",minimum,\"\\n\",maximum,\"\\n\",season)\n",
    "    # 1 - summer\n",
    "\n",
    "    feature = list(zip(Min,Max,season))\n",
    "\n",
    "    model = GaussianNB()\n",
    "\n",
    "    model.fit(feature,Name)\n",
    "    \n",
    "    mi = minim.get()\n",
    "    m = maxim.get()\n",
    "    s = seas.get()\n",
    "    \n",
    "    predicted = model.predict([[mi,m,s]])\n",
    "    label.config(text=predicted)\n",
    "    \n",
    "    print(season)"
   ]
  },
  {
   "cell_type": "code",
   "execution_count": 2,
   "id": "a0b1e08a",
   "metadata": {},
   "outputs": [
    {
     "name": "stderr",
     "output_type": "stream",
     "text": [
      "C:\\Users\\MEET\\anaconda3\\lib\\site-packages\\sklearn\\base.py:566: FutureWarning: Arrays of bytes/strings is being converted to decimal numbers if dtype='numeric'. This behavior is deprecated in 0.24 and will be removed in 1.1 (renaming of 0.26). Please convert your data to numeric values explicitly instead.\n",
      "  X = check_array(X, **check_params)\n"
     ]
    },
    {
     "name": "stdout",
     "output_type": "stream",
     "text": [
      "[3 2 0 4 4 3 3 2 6 2 4 4 4 4 4 4 0 2 6 4 5 2 4 1 2 4 1 0 4 4 6 5 4 4 0 6 5]\n"
     ]
    }
   ],
   "source": [
    "r = Tk()\n",
    "\n",
    "# setting the window size\n",
    "r.geometry(\"700x350\")\n",
    "\n",
    "r.title(\"Fish Predictor\");\n",
    "# giving the details \n",
    "\n",
    "# taking entries\n",
    "Label(r, text=\"Enter Minimum Temperature\",font=('Calibri 10')).pack()\n",
    "minim = Entry(r,width=35)\n",
    "minim.pack()\n",
    "\n",
    "Label(r, text=\"Enter Maximum Temperature\",font=('Calibri 10')).pack()\n",
    "maxim = Entry(r,width=35)\n",
    "maxim.pack()\n",
    "\n",
    "Label(r, text=\"Enter Season\",font=('Calibri 10')).pack()\n",
    "seas = Entry(r,width=35)\n",
    "seas.pack()\n",
    "\n",
    "label = Label(r,text=\"Predicted Fish: \",font=('Calibri 15'))\n",
    "label.pack(pady=20)\n",
    "\n",
    "# Calling the function when button is being pressed.\n",
    "Button(r, text='Predict', width=25, command=pred_fish).pack();\n",
    "\n",
    "r.mainloop();\n"
   ]
  },
  {
   "cell_type": "code",
   "execution_count": null,
   "id": "54226aab",
   "metadata": {},
   "outputs": [],
   "source": [
    "minimum = [ 5  5  1 13 12 11 12  9  0 10 11 11 14 13 12 12  2  5  2 10  5  5  9  2 11  7  4  6  8 11  2  6  6  9  5  3  5]\n",
    "maximum = [ 4  2  1 12 12 10 10  5  0  6 12  6 12 11 12  7  1  3  1  6  4  5  9  3 8  5  2  3  5 11  1  2  4  9  3  2  3]\n",
    "season = [3 2 0 4 4 3 3 2 6 2 4 4 4 4 4 4 0 2 6 4 5 2 4 1 2 4 1 0 4 4 6 5 4 4 0 6 5]"
   ]
  }
 ],
 "metadata": {
  "kernelspec": {
   "display_name": "Python 3 (ipykernel)",
   "language": "python",
   "name": "python3"
  },
  "language_info": {
   "codemirror_mode": {
    "name": "ipython",
    "version": 3
   },
   "file_extension": ".py",
   "mimetype": "text/x-python",
   "name": "python",
   "nbconvert_exporter": "python",
   "pygments_lexer": "ipython3",
   "version": "3.9.12"
  }
 },
 "nbformat": 4,
 "nbformat_minor": 5
}
